{
 "cells": [
  {
   "cell_type": "markdown",
   "metadata": {},
   "source": [
    "Hannah Graham -- Assignment 1 Linear Programming: The Diet Problem -- MSDS460 Fall 2024\n",
    "\n"
   ]
  },
  {
   "cell_type": "code",
   "execution_count": 14,
   "metadata": {},
   "outputs": [],
   "source": [
    "from pulp import LpVariable, LpProblem, LpMaximize, LpStatus, value, LpMinimize"
   ]
  },
  {
   "cell_type": "markdown",
   "metadata": {},
   "source": [
    "Part 1: minimize costs while still meeting nutritional targets\n"
   ]
  },
  {
   "cell_type": "code",
   "execution_count": 15,
   "metadata": {},
   "outputs": [],
   "source": [
    "\n",
    "# define variables\n",
    "Chips = LpVariable(\"Chips\", 0, None) \n",
    "Sauce = LpVariable(\"Sauce\", 0, None) \n",
    "Yogurt = LpVariable(\"Yogurt\", 0, None) \n",
    "Salmon = LpVariable(\"Salmon\", 0, None)\n",
    "Beans = LpVariable(\"Beans\", 0, None)\n",
    "\n",
    "# defines the problem\n",
    "prob = LpProblem(\"problem\", LpMinimize)\n",
    "# Note, LpMaximize for a maximization problem, \n",
    "# and LpMinimize for a minimization problem"
   ]
  },
  {
   "cell_type": "code",
   "execution_count": 16,
   "metadata": {},
   "outputs": [],
   "source": [
    "#Weekly nutritional constraints\n",
    "\n",
    "#sodium\n",
    "prob += 160*Chips + 105*Sauce + 60*Yogurt + 240*Salmon + 85*Beans   <= 35000\n",
    "\n",
    "#Energy\n",
    "prob += 150*Chips + 90*Sauce + 100*Yogurt + 80*Salmon + 110*Beans   >= 14000\n",
    "\n",
    "# Protein\n",
    "prob += 1*Chips + 2*Sauce + 18*Yogurt + 17*Salmon + 7*Beans     >= 350\n",
    "\n",
    "# Vitamin D\n",
    "prob += 0*Chips + 0*Sauce + 0*Yogurt + 11*Salmon + 0*Beans      >= 140\n",
    "\n",
    "# Calcium\n",
    "prob += 0*Chips + 15*Sauce + 190*Yogurt + 9*Salmon + 40*Beans   >= 9100\n",
    "\n",
    "# Iron\n",
    "prob += 0.5*Chips + 1*Sauce + 0*Yogurt + 0*Salmon + 1.7*Beans   >= 126\n",
    "\n",
    "# Potassium\n",
    "prob += 0*Chips + 77*Sauce + 190*Yogurt + 320*Salmon + 410*Beans    >= 32900\n",
    "\n",
    "\n",
    "\n",
    "#objective function\n",
    "\n",
    "prob += 0.25*Chips + 0.487*Sauce + 0.92*Yogurt + 1.45*Salmon + 0.4895*Beans\n"
   ]
  },
  {
   "cell_type": "code",
   "execution_count": 17,
   "metadata": {},
   "outputs": [
    {
     "name": "stdout",
     "output_type": "stream",
     "text": [
      "Results:\n",
      "status=Optimal\n",
      "Beans = 70.175\n",
      "Chips = 13.405\n",
      "Salmon = 12.727273\n",
      "Sauce = 0.0\n",
      "Yogurt = 32.518182\n",
      "Objective = 86.07318579\n",
      "\n"
     ]
    }
   ],
   "source": [
    "# solve the problem\n",
    "status = prob.solve()\n",
    "print(f\"Results:\")\n",
    "print(f\"status={LpStatus[status]}\")\n",
    "\n",
    "# print the results\n",
    "for variable in prob.variables():\n",
    "    print(f\"{variable.name} = {variable.varValue}\")\n",
    "    \n",
    "print(f\"Objective = {value(prob.objective)}\")\n",
    "print(f\"\")"
   ]
  },
  {
   "cell_type": "markdown",
   "metadata": {},
   "source": [
    "Part 2: at least one serving of each food in the week"
   ]
  },
  {
   "cell_type": "code",
   "execution_count": 18,
   "metadata": {},
   "outputs": [],
   "source": [
    "# define variables\n",
    "Chips = LpVariable(\"Chips\", 1, None) \n",
    "Sauce = LpVariable(\"Sauce\", 1, None) \n",
    "Yogurt = LpVariable(\"Yogurt\", 1, None) \n",
    "Salmon = LpVariable(\"Salmon\", 1, None)\n",
    "Beans = LpVariable(\"Beans\", 1, None)\n",
    "\n",
    "# defines the problem\n",
    "prob = LpProblem(\"problem\", LpMinimize)\n",
    "# Note, LpMaximize for a maximization problem, \n",
    "# and LpMinimize for a minimization problem"
   ]
  },
  {
   "cell_type": "code",
   "execution_count": 19,
   "metadata": {},
   "outputs": [],
   "source": [
    "#Weekly nutritional constraints\n",
    "\n",
    "#sodium\n",
    "prob += 160*Chips + 105*Sauce + 60*Yogurt + 240*Salmon + 85*Beans   <= 35000\n",
    "\n",
    "#Energy\n",
    "prob += 150*Chips + 90*Sauce + 100*Yogurt + 80*Salmon + 110*Beans   >= 14000\n",
    "\n",
    "# Protein\n",
    "prob += 1*Chips + 2*Sauce + 18*Yogurt + 17*Salmon + 7*Beans     >= 350\n",
    "\n",
    "# Vitamin D\n",
    "prob += 0*Chips + 0*Sauce + 0*Yogurt + 11*Salmon + 0*Beans      >= 140\n",
    "\n",
    "# Calcium\n",
    "prob += 0*Chips + 15*Sauce + 190*Yogurt + 9*Salmon + 40*Beans   >= 9100\n",
    "\n",
    "# Iron\n",
    "prob += 0.5*Chips + 1*Sauce + 0*Yogurt + 0*Salmon + 1.7*Beans   >= 126\n",
    "\n",
    "# Potassium\n",
    "prob += 0*Chips + 77*Sauce + 190*Yogurt + 320*Salmon + 410*Beans    >= 32900\n",
    "\n",
    "\n",
    "\n",
    "#objective function\n",
    "\n",
    "prob += 0.25*Chips + 0.487*Sauce + 0.92*Yogurt + 1.45*Salmon + 0.4895*Beans\n"
   ]
  },
  {
   "cell_type": "code",
   "execution_count": 20,
   "metadata": {},
   "outputs": [
    {
     "name": "stdout",
     "output_type": "stream",
     "text": [
      "Results:\n",
      "status=Optimal\n",
      "Beans = 69.6575\n",
      "Chips = 13.1645\n",
      "Salmon = 12.727273\n",
      "Sauce = 1.0\n",
      "Yogurt = 32.548182\n",
      "Objective = 86.27434454\n",
      "\n"
     ]
    }
   ],
   "source": [
    "# solve the problem\n",
    "status = prob.solve()\n",
    "print(f\"Results:\")\n",
    "print(f\"status={LpStatus[status]}\")\n",
    "\n",
    "# print the results\n",
    "for variable in prob.variables():\n",
    "    print(f\"{variable.name} = {variable.varValue}\")\n",
    "    \n",
    "print(f\"Objective = {value(prob.objective)}\")\n",
    "print(f\"\")"
   ]
  },
  {
   "cell_type": "markdown",
   "metadata": {},
   "source": [
    "Part 3: LLM exploration"
   ]
  },
  {
   "cell_type": "code",
   "execution_count": 24,
   "metadata": {},
   "outputs": [
    {
     "name": "stdout",
     "output_type": "stream",
     "text": [
      "Optimal servings:\n",
      "beans: 70.175\n",
      "chips: 13.405\n",
      "salmon: 12.727273\n",
      "sauce: 0.0\n",
      "yogurt: 32.518182\n",
      "Total cost: 86.07318579\n"
     ]
    }
   ],
   "source": [
    "from pulp import LpMaximize, LpProblem, LpVariable, lpSum\n",
    "\n",
    "# Create the model\n",
    "model = LpProblem(name=\"nutrition-optimization\", sense=LpMinimize)\n",
    "\n",
    "# Define the decision variables\n",
    "chips = LpVariable(name=\"chips\", lowBound=0)\n",
    "sauce = LpVariable(name=\"sauce\", lowBound=0)\n",
    "yogurt = LpVariable(name=\"yogurt\", lowBound=0)\n",
    "salmon = LpVariable(name=\"salmon\", lowBound=0)\n",
    "beans = LpVariable(name=\"beans\", lowBound=0)\n",
    "\n",
    "# Objective function: Minimize cost\n",
    "model += 0.25 * chips + 0.487 * sauce + 0.92 * yogurt + 1.45 * salmon + 0.4895 * beans\n",
    "\n",
    "# Constraints\n",
    "model += (160 * chips + 105 * sauce + 60 * yogurt + 240 * salmon + 85 * beans <= 35000, \"sodium\")\n",
    "model += (150 * chips + 90 * sauce + 100 * yogurt + 80 * salmon + 110 * beans >= 14000, \"energy\")\n",
    "model += (1 * chips + 2 * sauce + 18 * yogurt + 17 * salmon + 7 * beans >= 350, \"protein\")\n",
    "model += (0 * chips + 0 * sauce + 0 * yogurt + 11 * salmon + 0 * beans >= 140, \"vitamin_d\")\n",
    "model += (0 * chips + 15 * sauce + 190 * yogurt + 9 * salmon + 40 * beans >= 9100, \"calcium\")\n",
    "model += (0.5 * chips + 1 * sauce + 0 * yogurt + 0 * salmon + 1.7 * beans >= 126, \"iron\")\n",
    "model += (0 * chips + 77 * sauce + 190 * yogurt + 320 * salmon + 410 * beans >= 32900, \"potassium\")\n",
    "\n",
    "# Solve the problem\n",
    "model.solve()\n",
    "\n",
    "# Print the results\n",
    "print(\"Optimal servings:\")\n",
    "for var in model.variables():\n",
    "    print(f\"{var.name}: {var.value()}\")\n",
    "print(f\"Total cost: {model.objective.value()}\")\n"
   ]
  }
 ],
 "metadata": {
  "kernelspec": {
   "display_name": "Python 3",
   "language": "python",
   "name": "python3"
  },
  "language_info": {
   "codemirror_mode": {
    "name": "ipython",
    "version": 3
   },
   "file_extension": ".py",
   "mimetype": "text/x-python",
   "name": "python",
   "nbconvert_exporter": "python",
   "pygments_lexer": "ipython3",
   "version": "3.11.9"
  }
 },
 "nbformat": 4,
 "nbformat_minor": 2
}
